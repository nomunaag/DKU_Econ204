{
  "nbformat": 4,
  "nbformat_minor": 0,
  "metadata": {
    "colab": {
      "name": "Nomunaa: ECON 204, EconomicGrowth: Tuesday.ipynb",
      "provenance": [],
      "collapsed_sections": [],
      "include_colab_link": true
    },
    "kernelspec": {
      "name": "python3",
      "display_name": "Python 3"
    }
  },
  "cells": [
    {
      "cell_type": "markdown",
      "metadata": {
        "id": "view-in-github",
        "colab_type": "text"
      },
      "source": [
        "<a href=\"https://colab.research.google.com/github/nomunaag/DKU_Econ204/blob/main/Nomunaa_ECON_204%2C_EconomicGrowth_Tuesday.ipynb\" target=\"_parent\"><img src=\"https://colab.research.google.com/assets/colab-badge.svg\" alt=\"Open In Colab\"/></a>"
      ]
    },
    {
      "cell_type": "markdown",
      "metadata": {
        "id": "R7fwSVGY6qUN"
      },
      "source": [
        "**Step 1: Define the Exogenous Variables**\n",
        "\n",
        "The saving rate: $s$\n",
        "\n",
        "The depreciation rate: $\\delta$\n",
        "\n",
        "The popoulation growth rate: $n$\n",
        "\n",
        "The Technology level: $A$\n",
        "\n",
        "The Initial labor level: $L(0)$\n",
        "\n",
        "The Initial capital level: $K(0)$\n",
        "\n",
        "\n",
        "\n"
      ]
    },
    {
      "cell_type": "code",
      "metadata": {
        "id": "h2Tg5n_656xi"
      },
      "source": [
        "s = 0.5\n",
        "delta = 0.1\n",
        "n=2\n",
        "A=10\n",
        "L0=100\n",
        "K0=450\n"
      ],
      "execution_count": 225,
      "outputs": []
    },
    {
      "cell_type": "code",
      "metadata": {
        "id": "NW1OJSt5uq-k",
        "outputId": "e97c7b2d-6003-4444-ac76-c19f35654c8f",
        "colab": {
          "base_uri": "https://localhost:8080/"
        }
      },
      "source": [
        "k0=K0/L0\n",
        "k0"
      ],
      "execution_count": 226,
      "outputs": [
        {
          "output_type": "execute_result",
          "data": {
            "text/plain": [
              "4.5"
            ]
          },
          "metadata": {
            "tags": []
          },
          "execution_count": 226
        }
      ]
    },
    {
      "cell_type": "markdown",
      "metadata": {
        "id": "VPAThZQq7qcp"
      },
      "source": [
        "Simulate $L =L(0)*e^{nt}$"
      ]
    },
    {
      "cell_type": "code",
      "metadata": {
        "id": "SaoDi87-9Ruf"
      },
      "source": [
        "### import the package\n",
        "import numpy as np"
      ],
      "execution_count": 227,
      "outputs": []
    },
    {
      "cell_type": "code",
      "metadata": {
        "id": "tdb9YJMf8WcG"
      },
      "source": [
        "### define the function\n",
        "def L(t):\n",
        "  L=L0*np.exp(n*t)\n",
        "  return L"
      ],
      "execution_count": 228,
      "outputs": []
    },
    {
      "cell_type": "code",
      "metadata": {
        "id": "LJfz30TU9OPx",
        "outputId": "c908e34a-d7b2-4526-e83b-1b2172c028ef",
        "colab": {
          "base_uri": "https://localhost:8080/"
        }
      },
      "source": [
        "### check the initial value\n",
        "L(0)"
      ],
      "execution_count": 229,
      "outputs": [
        {
          "output_type": "execute_result",
          "data": {
            "text/plain": [
              "100.0"
            ]
          },
          "metadata": {
            "tags": []
          },
          "execution_count": 229
        }
      ]
    },
    {
      "cell_type": "code",
      "metadata": {
        "id": "bsGDSnAI-Hn0"
      },
      "source": [
        "t = np.linspace(0, 10)\n",
        "L=L(t)\n"
      ],
      "execution_count": 230,
      "outputs": []
    },
    {
      "cell_type": "code",
      "metadata": {
        "id": "rnmjtT3Elw5_",
        "outputId": "97e74cef-6e64-43fb-eee3-e080efb88c9d",
        "colab": {
          "base_uri": "https://localhost:8080/",
          "height": 276
        }
      },
      "source": [
        "### plot the function\n",
        "import matplotlib.pyplot as plt\n",
        "\n",
        "plt.plot(t, L)\n",
        "plt.show()"
      ],
      "execution_count": 231,
      "outputs": [
        {
          "output_type": "display_data",
          "data": {
            "image/png": "[encoded data removed]",
            "text/plain": [
              "<Figure size 432x288 with 1 Axes>"
            ]
          },
          "metadata": {
            "tags": [],
            "needs_background": "light"
          }
        }
      ]
    },
    {
      "cell_type": "code",
      "metadata": {
        "id": "--_1nI2I9gBB",
        "outputId": "d18a8656-97de-4099-a554-387c6a759f09",
        "colab": {
          "base_uri": "https://localhost:8080/",
          "height": 269
        }
      },
      "source": [
        "### plot the function with yscale in \"log\"\n",
        "import matplotlib.pyplot as plt\n",
        "\n",
        "plt.plot(t, L)\n",
        "plt.yscale(\"log\")\n",
        "plt.show()"
      ],
      "execution_count": 232,
      "outputs": [
        {
          "output_type": "display_data",
          "data": {
            "image/png": "[encoded data removed]",
            "text/plain": [
              "<Figure size 432x288 with 1 Axes>"
            ]
          },
          "metadata": {
            "tags": [],
            "needs_background": "light"
          }
        }
      ]
    },
    {
      "cell_type": "markdown",
      "metadata": {
        "id": "pQmEzhw57mXG"
      },
      "source": [
        "**Step 2: Plot the Production Function**\n",
        "\n",
        "$y=A*k^{\\beta}$\n"
      ]
    },
    {
      "cell_type": "code",
      "metadata": {
        "id": "6XZXXKP0uH4A"
      },
      "source": [
        "beta = 0.5"
      ],
      "execution_count": 233,
      "outputs": []
    },
    {
      "cell_type": "code",
      "metadata": {
        "id": "DjvdPehKuV0t"
      },
      "source": [
        "### define the function\n",
        "def y(k):\n",
        "  y=A*np.power(k,beta)\n",
        "  return y"
      ],
      "execution_count": 234,
      "outputs": []
    },
    {
      "cell_type": "code",
      "metadata": {
        "id": "eFJ62CqxuUiz",
        "outputId": "d749f157-0d7e-4b40-974b-b437c1788b91",
        "colab": {
          "base_uri": "https://localhost:8080/"
        }
      },
      "source": [
        "## check the initial condition\n",
        "y(k0)"
      ],
      "execution_count": 235,
      "outputs": [
        {
          "output_type": "execute_result",
          "data": {
            "text/plain": [
              "21.213203435596423"
            ]
          },
          "metadata": {
            "tags": []
          },
          "execution_count": 235
        }
      ]
    },
    {
      "cell_type": "code",
      "metadata": {
        "id": "Y9ffYrhJuzgo"
      },
      "source": [
        "k = np.linspace(k0, 100)\n",
        "y=y(k)"
      ],
      "execution_count": 236,
      "outputs": []
    },
    {
      "cell_type": "code",
      "metadata": {
        "id": "-2pVX3TGu8qd",
        "outputId": "edbd1b73-7184-4493-b584-1c632ed8b89b",
        "colab": {
          "base_uri": "https://localhost:8080/",
          "height": 265
        }
      },
      "source": [
        "### plot the function\n",
        "import matplotlib.pyplot as plt\n",
        "\n",
        "plt.plot(k, y)\n",
        "plt.show()"
      ],
      "execution_count": 237,
      "outputs": [
        {
          "output_type": "display_data",
          "data": {
            "image/png": "[encoded data removed]",
            "text/plain": [
              "<Figure size 432x288 with 1 Axes>"
            ]
          },
          "metadata": {
            "tags": [],
            "needs_background": "light"
          }
        }
      ]
    },
    {
      "cell_type": "markdown",
      "metadata": {
        "id": "bg1Wb2-GvLd4"
      },
      "source": [
        "**Step 3: Solve for the steady State**\n",
        "Refers to Latex Symbol here: https://artofproblemsolving.com/wiki/index.php/LaTeX:Symbols\n",
        "\n",
        "$0=\\bigtriangleup k/k=s*y(k)-s*\\delta-n $\n"
      ]
    },
    {
      "cell_type": "markdown",
      "metadata": {
        "id": "ysgHOjd_yiXA"
      },
      "source": [
        "Plot $g(k)=s*A*k^{\\beta-1}$"
      ]
    },
    {
      "cell_type": "code",
      "metadata": {
        "id": "tshvg8UAyHZJ"
      },
      "source": [
        "def G(k):\n",
        "  g=s*A*np.power(k,beta-1)\n",
        "  return g"
      ],
      "execution_count": 238,
      "outputs": []
    },
    {
      "cell_type": "code",
      "metadata": {
        "id": "M8sVmHWGy1Z2",
        "outputId": "fda9b1e9-eb2d-45aa-8c70-926118eb5e81",
        "colab": {
          "base_uri": "https://localhost:8080/"
        }
      },
      "source": [
        "G(k0)"
      ],
      "execution_count": 239,
      "outputs": [
        {
          "output_type": "execute_result",
          "data": {
            "text/plain": [
              "2.3570226039551585"
            ]
          },
          "metadata": {
            "tags": []
          },
          "execution_count": 239
        }
      ]
    },
    {
      "cell_type": "code",
      "metadata": {
        "id": "DhJej8sSy6z_"
      },
      "source": [
        "k = np.linspace(k0, 100)\n",
        "g1=G(k)"
      ],
      "execution_count": 240,
      "outputs": []
    },
    {
      "cell_type": "code",
      "metadata": {
        "id": "EnKvCmGzzHTg",
        "outputId": "800d1829-bd28-472e-d236-33d958332806",
        "colab": {
          "base_uri": "https://localhost:8080/",
          "height": 265
        }
      },
      "source": [
        "### plot the function\n",
        "import matplotlib.pyplot as plt\n",
        "\n",
        "plt.plot(k, g1)\n",
        "plt.show()"
      ],
      "execution_count": 241,
      "outputs": [
        {
          "output_type": "display_data",
          "data": {
            "image/png": "[encoded data removed]",
            "text/plain": [
              "<Figure size 432x288 with 1 Axes>"
            ]
          },
          "metadata": {
            "tags": [],
            "needs_background": "light"
          }
        }
      ]
    },
    {
      "cell_type": "code",
      "metadata": {
        "id": "BQ1rZQyQzLtr",
        "outputId": "ebc7393e-1796-4543-9ed9-dd881d77a166",
        "colab": {
          "base_uri": "https://localhost:8080/"
        }
      },
      "source": [
        "s*delta+n"
      ],
      "execution_count": 242,
      "outputs": [
        {
          "output_type": "execute_result",
          "data": {
            "text/plain": [
              "2.05"
            ]
          },
          "metadata": {
            "tags": []
          },
          "execution_count": 242
        }
      ]
    },
    {
      "cell_type": "code",
      "metadata": {
        "id": "WuT8kdFgzQgj",
        "outputId": "b13a3a90-fa9d-4fa9-cb4a-86cd9688d379",
        "colab": {
          "base_uri": "https://localhost:8080/",
          "height": 615
        }
      },
      "source": [
        "### plot the function\n",
        "import matplotlib.pyplot as plt\n",
        "fig= plt.figure(figsize=(20,10))\n",
        "\n",
        "plt.plot(k, g1)\n",
        "plt.axhline(y=s*delta+n)\n",
        "plt.xlabel('$k$',fontsize=20)\n",
        "plt.show()"
      ],
      "execution_count": 243,
      "outputs": [
        {
          "output_type": "display_data",
          "data": {
            "image/png": "[encoded data removed]",
            "text/plain": [
              "<Figure size 1440x720 with 1 Axes>"
            ]
          },
          "metadata": {
            "tags": [],
            "needs_background": "light"
          }
        }
      ]
    },
    {
      "cell_type": "markdown",
      "metadata": {
        "id": "qWlVODyy4LKn"
      },
      "source": [
        "### Solve for the steady state $k^{*}$"
      ]
    },
    {
      "cell_type": "code",
      "metadata": {
        "id": "qkh3d-800saG"
      },
      "source": [
        "from sympy.solvers import solve\n",
        "from sympy import Symbol\n",
        "k=Symbol('k')"
      ],
      "execution_count": 244,
      "outputs": []
    },
    {
      "cell_type": "code",
      "metadata": {
        "id": "W936ShPd3uNb",
        "outputId": "6e5bdd25-313f-469b-8696-bcac1d5dd29c",
        "colab": {
          "base_uri": "https://localhost:8080/"
        }
      },
      "source": [
        "k_steady=solve(s*A*np.power(k,beta)/k-s*delta-n,k)\n",
        "k_steady"
      ],
      "execution_count": 245,
      "outputs": [
        {
          "output_type": "execute_result",
          "data": {
            "text/plain": [
              "[5.94883997620464]"
            ]
          },
          "metadata": {
            "tags": []
          },
          "execution_count": 245
        }
      ]
    },
    {
      "cell_type": "markdown",
      "metadata": {
        "id": "Gawwt2KA5Xf8"
      },
      "source": [
        "**Step 4: Plot the Steady State Economy**"
      ]
    },
    {
      "cell_type": "code",
      "metadata": {
        "id": "NW1fBHMH5t3o",
        "outputId": "289e9811-929e-4f0f-89c9-3411473f1b1d",
        "colab": {
          "base_uri": "https://localhost:8080/"
        }
      },
      "source": [
        "y_steady = A*np.power(k_steady,beta)\n",
        "y_steady"
      ],
      "execution_count": 246,
      "outputs": [
        {
          "output_type": "execute_result",
          "data": {
            "text/plain": [
              "array([24.3902439024390], dtype=object)"
            ]
          },
          "metadata": {
            "tags": []
          },
          "execution_count": 246
        }
      ]
    },
    {
      "cell_type": "code",
      "metadata": {
        "id": "-tB1_9zS3xuS"
      },
      "source": [
        "def Y(t):\n",
        "  Y = y_steady*L0*np.exp(n*t)\n",
        "  return Y"
      ],
      "execution_count": 247,
      "outputs": []
    },
    {
      "cell_type": "code",
      "metadata": {
        "id": "YUrVdZGr6Ji3"
      },
      "source": [
        "t = np.linspace(0, 10)\n",
        "Y=Y(t)"
      ],
      "execution_count": 248,
      "outputs": []
    },
    {
      "cell_type": "code",
      "metadata": {
        "id": "A40Z24lx6URG",
        "outputId": "73df113c-72a9-445e-f394-de818278939d",
        "colab": {
          "base_uri": "https://localhost:8080/",
          "height": 602
        }
      },
      "source": [
        "### plot the function\n",
        "import matplotlib.pyplot as plt\n",
        "fig= plt.figure(figsize=(20,10))\n",
        "\n",
        "plt.plot(t, Y)\n",
        "plt.show()"
      ],
      "execution_count": 249,
      "outputs": [
        {
          "output_type": "display_data",
          "data": {
            "image/png": "[encoded data removed]",
            "text/plain": [
              "<Figure size 1440x720 with 1 Axes>"
            ]
          },
          "metadata": {
            "tags": [],
            "needs_background": "light"
          }
        }
      ]
    },
    {
      "cell_type": "markdown",
      "metadata": {
        "id": "hrJ4RCc2nKpy"
      },
      "source": [
        "#**Technology Growth**\n",
        "\n",
        "# $y=y(0)*e^{at}$, where a is growth rate of technology A"
      ]
    },
    {
      "cell_type": "code",
      "metadata": {
        "id": "HESqAWZTO7kc"
      },
      "source": [
        "def y(t):\n",
        "  y = y0*np.exp(a*t)\n",
        "  return y"
      ],
      "execution_count": 250,
      "outputs": []
    },
    {
      "cell_type": "code",
      "metadata": {
        "id": "-_b9AbHGnUQf"
      },
      "source": [
        "# when there is no technology growth a=0\n",
        "y0=y_steady\n",
        "a=0"
      ],
      "execution_count": 251,
      "outputs": []
    },
    {
      "cell_type": "code",
      "metadata": {
        "id": "B19yTwhznb_k"
      },
      "source": [
        "t = np.linspace(0, 10)\n",
        "y1 =y(t)"
      ],
      "execution_count": 252,
      "outputs": []
    },
    {
      "cell_type": "code",
      "metadata": {
        "id": "C8vmcvq3nnC0",
        "outputId": "cf9575d6-9205-4a26-a491-c29c018e6dfb",
        "colab": {
          "base_uri": "https://localhost:8080/",
          "height": 592
        }
      },
      "source": [
        "### plot the function\n",
        "import matplotlib.pyplot as plt\n",
        "fig= plt.figure(figsize=(20,10))\n",
        "\n",
        "plt.plot(t, y1)\n",
        "plt.show()"
      ],
      "execution_count": 253,
      "outputs": [
        {
          "output_type": "display_data",
          "data": {
            "image/png": "[encoded data removed]",
            "text/plain": [
              "<Figure size 1440x720 with 1 Axes>"
            ]
          },
          "metadata": {
            "tags": [],
            "needs_background": "light"
          }
        }
      ]
    },
    {
      "cell_type": "code",
      "metadata": {
        "id": "PRPwtCVUno6D"
      },
      "source": [
        "### when technology growth rate a =1\n",
        "y0=y_steady\n",
        "a=1"
      ],
      "execution_count": 254,
      "outputs": []
    },
    {
      "cell_type": "code",
      "metadata": {
        "id": "jwloBno5nwCz"
      },
      "source": [
        "t = np.linspace(0, 10)\n",
        "y2 =y(t)"
      ],
      "execution_count": 255,
      "outputs": []
    },
    {
      "cell_type": "code",
      "metadata": {
        "id": "AxHBGoxbn0FI",
        "outputId": "c8091ad9-e253-47bf-fcbc-cd5e2abc4e18",
        "colab": {
          "base_uri": "https://localhost:8080/",
          "height": 609
        }
      },
      "source": [
        "### plot the function\n",
        "import matplotlib.pyplot as plt\n",
        "fig= plt.figure(figsize=(20,10))\n",
        "plt.plot(t,y1,label=\"a=0\")\n",
        "plt.plot(t,y2,label=\"a=1\")\n",
        "plt.legend()\n",
        "plt.title(\"Steady State GDP per Capital y with different technology growth rate a \", fontsize=16)\n",
        "plt.show()"
      ],
      "execution_count": 256,
      "outputs": [
        {
          "output_type": "display_data",
          "data": {
            "image/png": "[encoded data removed]",
            "text/plain": [
              "<Figure size 1440x720 with 1 Axes>"
            ]
          },
          "metadata": {
            "tags": [],
            "needs_background": "light"
          }
        }
      ]
    },
    {
      "cell_type": "code",
      "metadata": {
        "id": "KUfUHe1woETX"
      },
      "source": [
        ""
      ],
      "execution_count": 256,
      "outputs": []
    }
  ]
}